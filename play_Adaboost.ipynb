{
  "nbformat": 4,
  "nbformat_minor": 0,
  "metadata": {
    "colab": {
      "name": "play_Adaboost.ipynb",
      "provenance": [],
      "authorship_tag": "ABX9TyMwSzC5fYniAGnVGEV0LN94",
      "include_colab_link": true
    },
    "kernelspec": {
      "name": "python3",
      "display_name": "Python 3"
    }
  },
  "cells": [
    {
      "cell_type": "markdown",
      "metadata": {
        "id": "view-in-github",
        "colab_type": "text"
      },
      "source": [
        "<a href=\"https://colab.research.google.com/github/fffairforce/python_ML-DL_smallprojects/blob/master/play_Adaboost.ipynb\" target=\"_parent\"><img src=\"https://colab.research.google.com/assets/colab-badge.svg\" alt=\"Open In Colab\"/></a>"
      ]
    },
    {
      "cell_type": "code",
      "metadata": {
        "id": "Sb65TA04TXwl"
      },
      "source": [
        "from matplotlib.font_manager import FontProperties\r\n",
        "import matplotlib.pyplot as plt\r\n",
        "import numpy as np"
      ],
      "execution_count": 7,
      "outputs": []
    },
    {
      "cell_type": "code",
      "metadata": {
        "id": "OwPpJ1pvX3_B"
      },
      "source": [
        "def loadSimpData():\r\n",
        "  dataMat = np.matrix([[1. , 2.1],\r\n",
        "            [2. , 1.],\r\n",
        "            [1.3 , 1.],\r\n",
        "            [1. , 1.],\r\n",
        "            [2. , 1.]])\r\n",
        "  classLabels = [1.0, 1.0, -1.0, -1.0, 1.0]\r\n",
        "  return dataMat, classLabels"
      ],
      "execution_count": 9,
      "outputs": []
    },
    {
      "cell_type": "code",
      "metadata": {
        "id": "8uYZI6nKY78_"
      },
      "source": [
        "def plotData(dataMat):\r\n",
        "  fig = plt.figure()\r\n",
        "  ax = fig.add_subplot(111)\r\n",
        "  xcord = []; ycord = []\r\n",
        "  n = len(dataMat)\r\n",
        "  for i in range(n):\r\n",
        "    xcord.append(dataMat[i,0]);ycord.append(dataMat[i,1])\r\n",
        "  ax.scatter(xcord, ycord, s=20, c='blue')\r\n",
        "  plt.title('DataSet')\r\n",
        "  plt.xlabel('X')\r\n",
        "  plt.show()"
      ],
      "execution_count": 31,
      "outputs": []
    },
    {
      "cell_type": "code",
      "metadata": {
        "id": "P5mNLjU7fQ85"
      },
      "source": [
        "def stumpClassify(dataMatrix, dimen, threshVal, threshIneq):\r\n",
        "  retArray = ones((np.shape(dataMatrix)[0],1))\r\n",
        "  if threshIneq == 'lt':\r\n",
        "    retArray[dataMatrix[:,dimen] <= threshVal] = -1\r\n",
        "  else:\r\n",
        "    retArray[dataMatrix[:,dimen] <= threshVal] = 1\r\n",
        "  return retArray\r\n",
        "\r\n",
        "def buildStump(dataArr, classLabels, D):\r\n",
        "  dataMatrix = mat(dataArr);labelMat = mat(classLabels)\r\n",
        "  m, n = np.shape(dataMatrix)"
      ],
      "execution_count": null,
      "outputs": []
    },
    {
      "cell_type": "code",
      "metadata": {
        "colab": {
          "base_uri": "https://localhost:8080/",
          "height": 295
        },
        "id": "1sVXV9TpbNpS",
        "outputId": "041eea66-a729-4f5d-bd96-19816d4a794d"
      },
      "source": [
        "dataMat, classLabels = loadSimpData()\r\n",
        "plotData(dataMat)"
      ],
      "execution_count": 32,
      "outputs": [
        {
          "output_type": "display_data",
          "data": {
            "image/png": "[encoded data removed]",
            "text/plain": [
              "<Figure size 432x288 with 1 Axes>"
            ]
          },
          "metadata": {
            "tags": [],
            "needs_background": "light"
          }
        }
      ]
    },
    {
      "cell_type": "code",
      "metadata": {
        "colab": {
          "base_uri": "https://localhost:8080/"
        },
        "id": "wSWrlaticUcN",
        "outputId": "1f315f01-7278-4995-f335-b368f17e3c63"
      },
      "source": [
        "np.shape(dataMat)\r\n",
        "xcord = []; ycord = []\r\n",
        "n = len(dataMat)\r\n",
        "for i in range(n):\r\n",
        "  xcord.append(dataMat[i,0])\r\n",
        "  ycord.append(dataMat[i,1])\r\n",
        "xcord"
      ],
      "execution_count": 27,
      "outputs": [
        {
          "output_type": "execute_result",
          "data": {
            "text/plain": [
              "[1.0, 2.0, 1.3, 1.0, 2.0]"
            ]
          },
          "metadata": {
            "tags": []
          },
          "execution_count": 27
        }
      ]
    },
    {
      "cell_type": "code",
      "metadata": {
        "colab": {
          "base_uri": "https://localhost:8080/"
        },
        "id": "SpSI8d4GdBC2",
        "outputId": "605b0240-e313-4191-b417-9e405f631eeb"
      },
      "source": [
        "dataMat[0,0]"
      ],
      "execution_count": 24,
      "outputs": [
        {
          "output_type": "execute_result",
          "data": {
            "text/plain": [
              "1.0"
            ]
          },
          "metadata": {
            "tags": []
          },
          "execution_count": 24
        }
      ]
    }
  ]
}